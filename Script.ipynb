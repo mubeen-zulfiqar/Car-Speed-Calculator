{
 "cells": [
  {
   "cell_type": "code",
   "execution_count": 1,
   "id": "4c609832",
   "metadata": {},
   "outputs": [
    {
     "name": "stdout",
     "output_type": "stream",
     "text": [
      "Requirement already satisfied: opencv-python in c:\\users\\mubee\\appdata\\local\\packages\\pythonsoftwarefoundation.python.3.11_qbz5n2kfra8p0\\localcache\\local-packages\\python311\\site-packages (4.7.0.72)\n",
      "Requirement already satisfied: numpy>=1.21.2 in c:\\users\\mubee\\appdata\\local\\packages\\pythonsoftwarefoundation.python.3.11_qbz5n2kfra8p0\\localcache\\local-packages\\python311\\site-packages (from opencv-python) (1.24.2)\n",
      "Note: you may need to restart the kernel to use updated packages.\n"
     ]
    },
    {
     "name": "stderr",
     "output_type": "stream",
     "text": [
      "\n",
      "[notice] A new release of pip is available: 23.0.1 -> 23.1.2\n",
      "[notice] To update, run: C:\\Users\\mubee\\AppData\\Local\\Microsoft\\WindowsApps\\PythonSoftwareFoundation.Python.3.11_qbz5n2kfra8p0\\python.exe -m pip install --upgrade pip\n"
     ]
    }
   ],
   "source": [
    "pip install opencv-python"
   ]
  },
  {
   "cell_type": "code",
   "execution_count": 2,
   "id": "60a9effb",
   "metadata": {},
   "outputs": [],
   "source": [
    "import cv2"
   ]
  },
  {
   "cell_type": "code",
   "execution_count": 3,
   "id": "9d7d797d",
   "metadata": {},
   "outputs": [],
   "source": [
    "import time"
   ]
  },
  {
   "cell_type": "code",
   "execution_count": 22,
   "id": "fb5395c2",
   "metadata": {
    "scrolled": true
   },
   "outputs": [],
   "source": [
    "object_detector = cv2.createBackgroundSubtractorMOG2()# Object detection from Stable camera\n",
    "kernel = cv2.getStructuringElement(cv2.MORPH_ELLIPSE,(3,3))\n",
    "\n",
    "start_time = float(0)\n",
    "video = cv2.VideoCapture(\"Car.mp4\")\n",
    "total_distance=150 # meters\n",
    "\n",
    "while (video.isOpened()):\n",
    "    ret, frame = video.read()\n",
    "    \n",
    "    if ret == True:\n",
    "        # Extracting Region of Interest for Calibraion  \n",
    "        height, width, _ = frame.shape\n",
    "        roi = frame[150: 250,150: 350]\n",
    "\n",
    "        #Filtering Noise from frame\n",
    "        mask = object_detector.apply(roi)\n",
    "        _, mask = cv2.threshold(mask, 254, 255, cv2.THRESH_BINARY)\n",
    "        \n",
    "        #Removing Car trails\n",
    "        opening = cv2.morphologyEx(mask, cv2.MORPH_OPEN, kernel, iterations=10)\n",
    "        close = cv2.morphologyEx(opening, cv2.MORPH_CLOSE, kernel, iterations=10)\n",
    "\n",
    "        #Setting Boundary Box\n",
    "        boundaries, _ = cv2.findContours(mask, cv2.RETR_TREE, cv2.CHAIN_APPROX_SIMPLE)\n",
    "        \n",
    "        #NonMaxima Supperision\n",
    "        boundary = None\n",
    "        if boundaries:\n",
    "            boundary=boundaries[0]\n",
    "        xmin=-1\n",
    "        ymax = 9999\n",
    "        for i in boundaries:\n",
    "            boundary_area = cv2.contourArea(i)\n",
    "            if boundary_area >300:\n",
    "                xi, yi, wi, hi = cv2.boundingRect(i)\n",
    "                if xi > xmin and yi < ymax:\n",
    "                    xmin = xi\n",
    "                    ymax = yi\n",
    "                    boundary = i\n",
    "                    \n",
    "        x, y, w, h = cv2.boundingRect(boundary)\n",
    "        \n",
    "        #Calculating speed\n",
    "        \n",
    "        if x == 150:\n",
    "            start_time = time.time()\n",
    "        \n",
    "        time_elapsed = (time.time()-start_time)\n",
    "        diatance_covered = total_distance - x\n",
    "       \n",
    "        \n",
    "        if time_elapsed != 0:\n",
    "            speed=diatance_covered/time_elapsed\n",
    "            speed = round(speed, 2)\n",
    "        if speed<0:\n",
    "            speed = 0\n",
    "        \n",
    "        #Setting Output\n",
    "        cv2.putText(roi, str(speed) +\"m/s\" , (x, y - 10), cv2.FONT_HERSHEY_PLAIN, 1, (0, 255, 0), 1)\n",
    "        cv2.rectangle(roi, (x, y), (x + w, y + h), (0, 0, 255), 2)\n",
    "        cv2.imshow(\"Frame\",frame)\n",
    "        #cv2.imshow(\"ROI\",roi)\n",
    "        #cv2.imshow(\"Mask\", mask)\n",
    "                #cv2.drawContours(frame,[i],-1, (0,0,255), 2)          \n",
    "          \n",
    "    else:\n",
    "        break    \n",
    "\n",
    "    #press ESC to break\n",
    "    key=cv2.waitKey(30)\n",
    "    if key == 27:\n",
    "        break\n",
    " \n",
    "\n",
    "video.release()\n",
    "cv2.destroyAllWindows()\n",
    "\n"
   ]
  }
 ],
 "metadata": {
  "kernelspec": {
   "display_name": "Python 3 (ipykernel)",
   "language": "python",
   "name": "python3"
  },
  "language_info": {
   "codemirror_mode": {
    "name": "ipython",
    "version": 3
   },
   "file_extension": ".py",
   "mimetype": "text/x-python",
   "name": "python",
   "nbconvert_exporter": "python",
   "pygments_lexer": "ipython3",
   "version": "3.11.3"
  }
 },
 "nbformat": 4,
 "nbformat_minor": 5
}
